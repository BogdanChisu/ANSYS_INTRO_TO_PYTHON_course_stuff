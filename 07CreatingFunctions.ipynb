{
 "cells": [
  {
   "cell_type": "markdown",
   "metadata": {},
   "source": [
    "# Creating Functions\n",
    "\n",
    "## Questions\n",
    "\n",
    "- How can I define new functions?\n",
    "\n",
    "- What’s the difference between defining and calling a function?\n",
    "\n",
    "- What happens when I call a function?\n",
    "\n",
    "## Objectives\n",
    "\n",
    "- Define a function that takes parameters.\n",
    "\n",
    "- Return a value from a function.\n",
    "\n",
    "- Set default values for function parameters.\n",
    "\n",
    "- Document our functions.\n",
    "\n",
    "- Explain why we should divide programs into small, single-purpose functions.\n",
    "\n",
    "At this point, we’ve written code to draw some interesting features in our data, loop over all our data files to quickly draw these plots for each of them, and have Python make decisions based on what it sees in our data. But, our code is getting pretty long and complicated; what if we had thousands of datasets, and didn’t want to generate a figure for every single one? Commenting out the figure-drawing code is a nuisance. Also, what if we want to use that code again, on a different dataset or at a different point in our program? Cutting and pasting it is going to make our code get very long and very repetitive, very quickly. We’d like a way to package our code so that it is easier to reuse, and Python provides for this by letting us define things called ‘functions’ — a shorthand way of re-executing longer pieces of code. Let’s start by defining a function `fahr_to_celsius` that converts temperatures from Fahrenheit to Celsius:"
   ]
  },
  {
   "cell_type": "code",
   "execution_count": null,
   "metadata": {},
   "outputs": [],
   "source": [
    "def fahr_to_celsius(temp):\n",
    "    return ((temp - 32) * (5/9))"
   ]
  },
  {
   "cell_type": "markdown",
   "metadata": {},
   "source": [
    "![python function](media/python-function.svg)"
   ]
  },
  {
   "cell_type": "markdown",
   "metadata": {},
   "source": [
    "The function definition opens with the keyword `def` followed by the name of the function (`fahr_to_celsius`) and a parenthesized list of parameter names (`temp`). The body of the function — the statements that are executed when it runs — is indented below the definition line. The body concludes with a `return` keyword followed by the return value.\n",
    "\n",
    "When we call the function, the values we pass to it are assigned to those variables so that we can use them inside the function. Inside the function, we use a return statement to send a result back to whoever asked for it.\n",
    "\n",
    "Let’s try running our function.\n",
    "\n"
   ]
  },
  {
   "cell_type": "code",
   "execution_count": 2,
   "metadata": {},
   "outputs": [
    {
     "data": {
      "text/plain": [
       "0.0"
      ]
     },
     "execution_count": 2,
     "metadata": {},
     "output_type": "execute_result"
    }
   ],
   "source": [
    "# This command should call our function, using “32” as the input and return the function value.\n",
    "fahr_to_celsius(32)"
   ]
  },
  {
   "cell_type": "markdown",
   "metadata": {},
   "source": [
    "In fact, calling our own function is no different from calling any other function:"
   ]
  },
  {
   "cell_type": "code",
   "execution_count": 3,
   "metadata": {},
   "outputs": [
    {
     "name": "stdout",
     "output_type": "stream",
     "text": [
      "freezing point of water: 0.0 °C\n",
      "boiling point of water: 100.0 °C\n"
     ]
    }
   ],
   "source": [
    "print('freezing point of water:', fahr_to_celsius(32), '°C')\n",
    "print('boiling point of water:', fahr_to_celsius(212), '°C')"
   ]
  },
  {
   "cell_type": "markdown",
   "metadata": {},
   "source": [
    "We’ve successfully called the function that we defined, and we have access to the value that we returned.\n",
    "\n",
    "# Composing Functions\n",
    "\n",
    "Now that we’ve seen how to turn Fahrenheit into Celsius, we can also write the function to turn Celsius into Kelvin:"
   ]
  },
  {
   "cell_type": "code",
   "execution_count": 4,
   "metadata": {},
   "outputs": [
    {
     "name": "stdout",
     "output_type": "stream",
     "text": [
      "freezing point of water in Kelvin: 273.15\n"
     ]
    }
   ],
   "source": [
    "def celsius_to_kelvin(temp_c):\n",
    "    return temp_c + 273.15\n",
    "\n",
    "print('freezing point of water in Kelvin:', celsius_to_kelvin(0.))"
   ]
  },
  {
   "cell_type": "markdown",
   "metadata": {},
   "source": [
    "What about converting Fahrenheit to Kelvin? We could write out the formula, but we don’t need to. Instead, we can compose the two functions we have already created:"
   ]
  },
  {
   "cell_type": "code",
   "execution_count": 5,
   "metadata": {},
   "outputs": [
    {
     "name": "stdout",
     "output_type": "stream",
     "text": [
      "boiling point of water in Kelvin: 373.15\n"
     ]
    }
   ],
   "source": [
    "def fahr_to_kelvin(temp_f):\n",
    "    temp_c = fahr_to_celsius(temp_f)\n",
    "    temp_k = celsius_to_kelvin(temp_c)\n",
    "    return temp_k\n",
    "\n",
    "print('boiling point of water in Kelvin:', fahr_to_kelvin(212.0))"
   ]
  },
  {
   "cell_type": "markdown",
   "metadata": {},
   "source": [
    "This is our first taste of how larger programs are built: we define basic operations, then combine them in ever-larger chunks to get the effect we want. Real-life functions will usually be larger than the ones shown here — typically half a dozen to a few dozen lines — but they shouldn’t ever be much longer than that, or the next person who reads it won’t be able to understand what’s going on.\n",
    "\n",
    "# Tidying Up\n",
    "\n",
    "Now that we know how to wrap bits of code up in functions, we can make our luminance analysis easier to read and easier to reuse. First, let’s make a visualize function that generates our plots and a cross-section-finder function.\n"
   ]
  },
  {
   "cell_type": "code",
   "execution_count": 1,
   "metadata": {},
   "outputs": [],
   "source": [
    "import numpy as np\n",
    "import matplotlib.pyplot as plt\n",
    "\n",
    "\n",
    "def find_data_cross_section(simulation_filename):\n",
    "    simulation = np.loadtxt(fname=simulation_filename, skiprows=52)\n",
    "    assert len(simulation) > 0\n",
    "\n",
    "    x_simulation = simulation[:, 0]\n",
    "    y_simulation = simulation[:, 1]\n",
    "    L_simulation = simulation[:, 2]\n",
    "    smallest_y = np.amin(abs(y_simulation))\n",
    "    x_cross_section = x_simulation[y_simulation==smallest_y]\n",
    "    luminance_cross_section = L_simulation[y_simulation==smallest_y]\n",
    "\n",
    "    return x_cross_section, luminance_cross_section\n",
    "\n",
    "\n",
    "def visualize(experiment_filename, simulation_filename):\n",
    "\n",
    "    experiment = np.loadtxt(fname=experiment_filename, delimiter=',')\n",
    "    x, luminance = find_data_cross_section(simulation_filename)\n",
    "\n",
    "\n",
    "    fig = plt.figure()\n",
    "    # just a single plot needed here\n",
    "    ax = fig.add_subplot(111)\n",
    "    ax.plot(x, luminance, label='simulation')\n",
    "    ax.plot(experiment[:,0], experiment[:, 1], marker='+', linestyle=' ', label='experiment')\n",
    "    \n",
    "    # set the labels\n",
    "    ax.set_xlabel('x position [mm]')\n",
    "    ax.set_ylabel('Luminance [Cd/m^2]')\n",
    "    ax.set_title(filename)\n",
    "    ax.legend()\n",
    "    \n",
    "    # plt.show() always makes the plot appear that has been drawn. \n",
    "    # It is redundant in jupyter notebooks but necessary in scripts!\n",
    "    plt.show()"
   ]
  },
  {
   "cell_type": "markdown",
   "metadata": {},
   "source": [
    "and another function called `calculate_average_luminance` that finds the average luminance over the LEDs:"
   ]
  },
  {
   "cell_type": "code",
   "execution_count": 2,
   "metadata": {},
   "outputs": [],
   "source": [
    "def calculate_average_luminance(x, luminance):\n",
    "    boolean_array = np.logical_and(x<=10., x>= -10.)\n",
    "    average_luminance = np.mean(luminance[boolean_array])\n",
    "    return average_luminance"
   ]
  },
  {
   "cell_type": "markdown",
   "metadata": {},
   "source": [
    "Wait! Didn’t we forget to specify what the visualize function should return? Well, we didn’t. In Python, functions are not required to include a `return` statement and can be used for the sole purpose of grouping together pieces of code that conceptually do one thing. In such cases, function names usually describe what they do, e.g. `visualize`.\n",
    "\n",
    "Notice that rather than jumbling this code together in one giant `for` loop, we can now read and reuse both ideas separately. We can reproduce the previous analysis with a much simpler `for` loop:"
   ]
  },
  {
   "cell_type": "code",
   "execution_count": 3,
   "metadata": {},
   "outputs": [
    {
     "data": {
      "image/png": "[encoded data removed]",
      "text/plain": [
       "<Figure size 640x480 with 1 Axes>"
      ]
     },
     "metadata": {},
     "output_type": "display_data"
    },
    {
     "name": "stdout",
     "output_type": "stream",
     "text": [
      "Experiment & Simulation difference = 3.319310065215488 %\n"
     ]
    },
    {
     "data": {
      "image/png": "[encoded data removed]",
      "text/plain": [
       "<Figure size 640x480 with 1 Axes>"
      ]
     },
     "metadata": {},
     "output_type": "display_data"
    },
    {
     "name": "stdout",
     "output_type": "stream",
     "text": [
      "Experiment & Simulation difference = 77.88975272561785 %\n"
     ]
    },
    {
     "data": {
      "image/png": "[encoded data removed]",
      "text/plain": [
       "<Figure size 640x480 with 1 Axes>"
      ]
     },
     "metadata": {},
     "output_type": "display_data"
    },
    {
     "name": "stdout",
     "output_type": "stream",
     "text": [
      "Experiment & Simulation difference = 42.73462211252939 %\n"
     ]
    },
    {
     "data": {
      "image/png": "[encoded data removed]",
      "text/plain": [
       "<Figure size 640x480 with 1 Axes>"
      ]
     },
     "metadata": {},
     "output_type": "display_data"
    },
    {
     "name": "stdout",
     "output_type": "stream",
     "text": [
      "Experiment & Simulation difference = 82.72425871918331 %\n"
     ]
    },
    {
     "data": {
      "image/png": "[encoded data removed]",
      "text/plain": [
       "<Figure size 640x480 with 1 Axes>"
      ]
     },
     "metadata": {},
     "output_type": "display_data"
    },
    {
     "name": "stdout",
     "output_type": "stream",
     "text": [
      "Experiment & Simulation difference = 81.94342576807645 %\n"
     ]
    }
   ],
   "source": [
    "import glob \n",
    "\n",
    "\n",
    "filenames = sorted(glob.glob('simulation*.txt'))  # sorted is another built-in function that sorts our list of files\n",
    "\n",
    "for filename in filenames:\n",
    "    visualize('experiment01.csv', filename)\n",
    "    \n",
    "    x, luminance = find_data_cross_section(filename)\n",
    "    simulation_average = calculate_average_luminance(x, luminance)\n",
    "    \n",
    "    experiment = np.loadtxt(fname='experiment01.csv', delimiter=',')\n",
    "    experiment_average = calculate_average_luminance(experiment[:,0], experiment[:,1])\n",
    "    \n",
    "    percentage_difference = abs(simulation_average - experiment_average)*100./experiment_average\n",
    "    \n",
    "    # str() can be used as a function to convert python objects into strings\n",
    "    print('Experiment & Simulation difference = ' + str(percentage_difference) + ' %')"
   ]
  },
  {
   "cell_type": "markdown",
   "metadata": {},
   "source": [
    "By giving our functions human-readable names, we can more easily read and understand what is happening in the for loop. Even better, if at some later date we want to use either of those pieces of code again, we can do so in a single line."
   ]
  },
  {
   "cell_type": "markdown",
   "metadata": {},
   "source": [
    "> # Aside: Testing \n",
    ">\n",
    "> Once we start putting things in functions so that we can re-use them, we need to start testing that those functions are working correctly. To see how to do this, let’s test our average-calculating function, reproduced below for ease. We cover testing in more detail in the next lesson, but here we include this aside on how to test effectively.\n",
    "\n"
   ]
  },
  {
   "cell_type": "code",
   "execution_count": 9,
   "metadata": {},
   "outputs": [],
   "source": [
    "def calculate_average_luminance(x, luminance):\n",
    "    boolean_array = np.logical_and(x<=10., x>= -10.)\n",
    "    average_luminance = np.mean(luminance[boolean_array])\n",
    "    return average_luminance"
   ]
  },
  {
   "cell_type": "markdown",
   "metadata": {},
   "source": [
    "> We could test this on our actual data, but since we don’t know what the values ought to be, it will be hard to tell if the result was correct. Instead, let’s use NumPy to create some cases we *know* to be correct and make sure it returns the correct answer!\n",
    "> \n",
    "> ## First Test\n",
    "> \n",
    "> When testing it is important to constantly challenge any assumptions you may have. It uncovers bugs because we *thought* the system *obviously* would behave in a certain way, and then we find it actually doesn't.\n",
    ">\n",
    "> So here we should test something obvious. If we provide luminance of just zeros, then our average should be zero. Let's check!"
   ]
  },
  {
   "cell_type": "code",
   "execution_count": 4,
   "metadata": {},
   "outputs": [],
   "source": [
    "x = np.arange(-20, 20, 1)\n",
    "luminance = np.zeros((40))\n",
    "\n",
    "result = calculate_average_luminance(x, luminance)\n",
    "assert result == 0., \"this is the error\""
   ]
  },
  {
   "cell_type": "markdown",
   "metadata": {},
   "source": [
    "> That looks right! Now let's try something a bit more complex.\n",
    ">\n",
    "> ## Second Test\n",
    ">\n",
    "> We should test that if we provide non-zero values for luminance in the region, we're checking we get that nonzero value back!"
   ]
  },
  {
   "cell_type": "code",
   "execution_count": 5,
   "metadata": {},
   "outputs": [],
   "source": [
    "x = np.arange(-20, 20, 1)\n",
    "luminance = np.zeros((40))\n",
    "luminance[np.logical_and(x<=10., x>=-10.)] += 1.\n",
    "\n",
    "result = calculate_average_luminance(x, luminance)\n",
    "assert result == 1."
   ]
  },
  {
   "cell_type": "markdown",
   "metadata": {},
   "source": [
    "> So far so good. But so far, we've been checking what are commonly known as \"Happy\" cases. We've been testing how the function behaves when it receives what it's supposed to and that it behaves correctly. But there's another type of case that's just as (if not more) important the \"Unhappy\" case. In the unhappy case we feed the function deliberately incorrect inputs to check that it handles them as we expect.\n",
    ">\n",
    "> ## Third Test - Unhappy Case\n",
    ">\n",
    "> It is tricky to test unhappy cases without using a specialized testing library because it throws so many errors. But, here we will write some erroneous code and check that the error we get is what we expected to see.\n",
    ">\n",
    "> E.g. let's feed in two lists, instead of numpy arrays. We would expect to get a `TypeError` as the type of the object we've supplied is incorrect. "
   ]
  },
  {
   "cell_type": "code",
   "execution_count": 6,
   "metadata": {},
   "outputs": [
    {
     "name": "stdout",
     "output_type": "stream",
     "text": [
      "<class 'list'> <class 'list'>\n"
     ]
    },
    {
     "ename": "TypeError",
     "evalue": "'<=' not supported between instances of 'list' and 'float'",
     "output_type": "error",
     "traceback": [
      "\u001b[1;31m---------------------------------------------------------------------------\u001b[0m",
      "\u001b[1;31mTypeError\u001b[0m                                 Traceback (most recent call last)",
      "Cell \u001b[1;32mIn[6], line 5\u001b[0m\n\u001b[0;32m      2\u001b[0m luminance \u001b[38;5;241m=\u001b[39m \u001b[38;5;28mlist\u001b[39m(np\u001b[38;5;241m.\u001b[39mzeros((\u001b[38;5;241m40\u001b[39m)))\n\u001b[0;32m      3\u001b[0m \u001b[38;5;28mprint\u001b[39m(\u001b[38;5;28mtype\u001b[39m(x), \u001b[38;5;28mtype\u001b[39m(luminance))\n\u001b[1;32m----> 5\u001b[0m result \u001b[38;5;241m=\u001b[39m \u001b[43mcalculate_average_luminance\u001b[49m\u001b[43m(\u001b[49m\u001b[43mx\u001b[49m\u001b[43m,\u001b[49m\u001b[43m \u001b[49m\u001b[43mluminance\u001b[49m\u001b[43m)\u001b[49m\n",
      "Cell \u001b[1;32mIn[2], line 2\u001b[0m, in \u001b[0;36mcalculate_average_luminance\u001b[1;34m(x, luminance)\u001b[0m\n\u001b[0;32m      1\u001b[0m \u001b[38;5;28;01mdef\u001b[39;00m \u001b[38;5;21mcalculate_average_luminance\u001b[39m(x, luminance):\n\u001b[1;32m----> 2\u001b[0m     boolean_array \u001b[38;5;241m=\u001b[39m np\u001b[38;5;241m.\u001b[39mlogical_and(\u001b[43mx\u001b[49m\u001b[38;5;241;43m<\u001b[39;49m\u001b[38;5;241;43m=\u001b[39;49m\u001b[38;5;241;43m10.\u001b[39;49m, x\u001b[38;5;241m>\u001b[39m\u001b[38;5;241m=\u001b[39m \u001b[38;5;241m-\u001b[39m\u001b[38;5;241m10.\u001b[39m)\n\u001b[0;32m      3\u001b[0m     average_luminance \u001b[38;5;241m=\u001b[39m np\u001b[38;5;241m.\u001b[39mmean(luminance[boolean_array])\n\u001b[0;32m      4\u001b[0m     \u001b[38;5;28;01mreturn\u001b[39;00m average_luminance\n",
      "\u001b[1;31mTypeError\u001b[0m: '<=' not supported between instances of 'list' and 'float'"
     ]
    }
   ],
   "source": [
    "x = list(np.arange(-20, 20, 1))\n",
    "luminance = list(np.zeros((40)))\n",
    "print(type(x), type(luminance))\n",
    "\n",
    "result = calculate_average_luminance(x, luminance)"
   ]
  },
  {
   "cell_type": "markdown",
   "metadata": {},
   "source": [
    "> That is indeed what we find! We'll return to discuss testing a bit more in a later lesson.\n",
    ">\n",
    "> > **Note:** There are a number of ways of formalizing tests for code you have written. The easiest to pick up among these is the python library *pytest*. The ins and outs of this package are covered in the advanced testing course; for now, it is enough to know such things exist and that testing your code using more code is a good idea!\n",
    "\n",
    "# Documenting\n",
    "\n",
    "We have one more task first, though. We should write some documentation for our function to remind ourselves later what it’s for and how to use it. There are two common ways to put documentation in software. The first is to add comments like this:"
   ]
  },
  {
   "cell_type": "code",
   "execution_count": 7,
   "metadata": {},
   "outputs": [],
   "source": [
    "# This function takes two numpy arrays and calculates the average value of the second over the region -10 to 10, \n",
    "# which is defined in the first array.\n",
    "def calculate_average_luminance(x, luminance):\n",
    "    boolean_array = np.logical_and(x<=10., x>= -10.)\n",
    "    average_luminance = np.mean(luminance[boolean_array])\n",
    "    return average_luminance"
   ]
  },
  {
   "cell_type": "markdown",
   "metadata": {},
   "source": [
    "There’s a better way, though. If the first thing in a function is a string that is not assigned to a variable, that string is attached to the function as its documentation:"
   ]
  },
  {
   "cell_type": "code",
   "execution_count": 8,
   "metadata": {},
   "outputs": [],
   "source": [
    "def calculate_average_luminance(x, luminance):\n",
    "    \"\"\"This function takes two numpy arrays and calculates the average value of the second over the region -10 to 10, \n",
    "    which is defined in the first array.\"\"\"\n",
    "    boolean_array = np.logical_and(x<=10., x>= -10.)\n",
    "    average_luminance = np.mean(luminance[boolean_array])\n",
    "    return average_luminance"
   ]
  },
  {
   "cell_type": "markdown",
   "metadata": {},
   "source": [
    "This is better because we can now ask Python’s built-in help system to show us the documentation for the function:"
   ]
  },
  {
   "cell_type": "code",
   "execution_count": 9,
   "metadata": {},
   "outputs": [
    {
     "name": "stdout",
     "output_type": "stream",
     "text": [
      "Help on function calculate_average_luminance in module __main__:\n",
      "\n",
      "calculate_average_luminance(x, luminance)\n",
      "    This function takes two numpy arrays and calculates the average value of the second over the region -10 to 10, \n",
      "    which is defined in the first array.\n",
      "\n"
     ]
    }
   ],
   "source": [
    "help(calculate_average_luminance)"
   ]
  },
  {
   "cell_type": "markdown",
   "metadata": {},
   "source": [
    "A string like this is called a docstring. We do not need to use triple quotes when we write one, but if we do, we can break the string across multiple lines:"
   ]
  },
  {
   "cell_type": "code",
   "execution_count": 10,
   "metadata": {},
   "outputs": [
    {
     "name": "stdout",
     "output_type": "stream",
     "text": [
      "Help on function calculate_average_luminance in module __main__:\n",
      "\n",
      "calculate_average_luminance(x, luminance)\n",
      "    This function takes two numpy arrays and calculates the average value of the second over the region -10 to 10, \n",
      "    which is defined in the first array.\n",
      "    \n",
      "    Examples\n",
      "    --------\n",
      "    >>> x = np.array([-20, -10, 0, 10, 20])\n",
      "    >>> L = np.array([0, 2, 5, 2, 0])\n",
      "    >>> calculate_average_luminance(x, L)\n",
      "    3.0\n",
      "\n"
     ]
    }
   ],
   "source": [
    "def calculate_average_luminance(x, luminance):\n",
    "    \"\"\"This function takes two numpy arrays and calculates the average value of the second over the region -10 to 10, \n",
    "    which is defined in the first array.\n",
    "\n",
    "    Examples\n",
    "    --------\n",
    "    >>> x = np.array([-20, -10, 0, 10, 20])\n",
    "    >>> L = np.array([0, 2, 5, 2, 0])\n",
    "    >>> calculate_average_luminance(x, L)\n",
    "    3.0\n",
    "    \"\"\"\n",
    "    boolean_array = np.logical_and(x<=10., x>= -10.)\n",
    "    average_luminance = np.mean(luminance[boolean_array])\n",
    "    return average_luminance\n",
    "\n",
    "help(calculate_average_luminance)"
   ]
  },
  {
   "cell_type": "markdown",
   "metadata": {},
   "source": [
    "> **Note:** triple quote docstrings are *actually* strings and can be used as such. It is not common to see them in python programs but if you have a long, multi-line, hardcoded string, it is common to put it in triple quotes. For example:\n",
    "> ```Python\n",
    "> my_long_string = \"\"\"It’s all wrong\n",
    "> By rights we shouldn’t even be here.\n",
    "> But we are.\n",
    "> It’s like in the great stories Mr. Frodo.\n",
    "> The ones that really mattered.\n",
    "> Full of darkness and danger they were,\n",
    "> and sometimes you didn’t want to know the end.\n",
    "> Because how could the end be happy.\n",
    "> How could the world go back to the way it was when so much bad happened.\n",
    "> But in the end, it’s only a passing thing, this shadow.\n",
    "> Even darkness must pass.\n",
    "> A new day will come.\n",
    "> And when the sun shines it will shine out the clearer.\n",
    "> Those were the stories that stayed with you.\n",
    "> That meant something.\n",
    "> Even if you were too small to understand why.\n",
    "> But I think, Mr. Frodo, I do understand.\n",
    "> I know now.\n",
    "> Folk in those stories had lots of chances of turning back only they didn’t.\n",
    "> Because they were holding on to something.\"\"\"\n",
    "> ```\n",
    ">\n",
    "> Additionally triple quotes using the single quote character `'` can be used but are very unusual, and not recommended.\n",
    "\n",
    "# Defining Defaults\n",
    "\n",
    "We touched on this in an earlier lesson, but here we will go into it in more detail. We have passed arguments to functions in two ways: directly, as in `type(data)`, and by name, as in `np.loadtxt(fname='something.csv', delimiter=',')`. In fact, we can pass the filename to `loadtxt` without the `fname=`:"
   ]
  },
  {
   "cell_type": "code",
   "execution_count": 23,
   "metadata": {},
   "outputs": [],
   "source": [
    "np.loadtxt('experiment01.csv', delimiter=',')"
   ]
  },
  {
   "cell_type": "markdown",
   "metadata": {},
   "source": [
    "but we still need to say `delimiter=`:\n",
    "\n",
    "```Python\n",
    "np.loadtxt('experiment01.csv', ',')\n",
    "```\n",
    "\n",
    "will throw an error.\n",
    "\n",
    "```\n",
    "Traceback (most recent call last):\n",
    "\n",
    "  File \"c:\\users\\jderrick\\appdata\\local\\programs\\python\\python38\\lib\\site-packages\\IPython\\core\\interactiveshell.py\", line 3418, in run_code\n",
    "    exec(code_obj, self.user_global_ns, self.user_ns)\n",
    "\n",
    "  File \"<ipython-input-22-1d44534e11cb>\", line 2, in <module>\n",
    "    np.loadtxt('experiment01.csv', ',')\n",
    "\n",
    "  File \"c:\\users\\jderrick\\appdata\\local\\programs\\python\\python38\\lib\\site-packages\\numpy\\lib\\npyio.py\", line 1055, in loadtxt\n",
    "    dtype = np.dtype(dtype)\n",
    "\n",
    "  File \"c:\\users\\jderrick\\appdata\\local\\programs\\python\\python38\\lib\\site-packages\\numpy\\core\\_internal.py\", line 199, in _commastring\n",
    "    newitem = (dtype, ast.literal_eval(repeats))\n",
    "\n",
    "  File \"c:\\users\\jderrick\\appdata\\local\\programs\\python\\python38\\lib\\ast.py\", line 59, in literal_eval\n",
    "    node_or_string = parse(node_or_string, mode='eval')\n",
    "\n",
    "  File \"c:\\users\\jderrick\\appdata\\local\\programs\\python\\python38\\lib\\ast.py\", line 47, in parse\n",
    "    return compile(source, filename, mode, flags,\n",
    "\n",
    "  File \"<unknown>\", line 1\n",
    "    ,\n",
    "    ^\n",
    "SyntaxError: unexpected EOF while parsing\n",
    "\n",
    "```"
   ]
  },
  {
   "cell_type": "markdown",
   "metadata": {},
   "source": [
    "To understand what’s going on, let's define a simple function."
   ]
  },
  {
   "cell_type": "code",
   "execution_count": 25,
   "metadata": {},
   "outputs": [],
   "source": [
    "def print_name_and_job(name, job):\n",
    "    print('my name is ' + name)\n",
    "    print('my job is '+ job)"
   ]
  },
  {
   "cell_type": "markdown",
   "metadata": {},
   "source": [
    "If we call it as it is."
   ]
  },
  {
   "cell_type": "code",
   "execution_count": 26,
   "metadata": {},
   "outputs": [
    {
     "name": "stdout",
     "output_type": "stream",
     "text": [
      "my name is Samwise\n",
      "my job is Gardener\n"
     ]
    }
   ],
   "source": [
    "print_name_and_job('Samwise', 'Gardener')"
   ]
  },
  {
   "cell_type": "markdown",
   "metadata": {},
   "source": [
    "It works fine, but let's say we're only using this in the context of the fellowship and really the job title is most likely to be \"fellowship member\". We want to default to this if nothing is provided.\n",
    "\n",
    "The key change is that the second parameter is now written `job='fellowship'` instead of just `job`. If we call the function with two arguments, it works as it did before:"
   ]
  },
  {
   "cell_type": "code",
   "execution_count": 29,
   "metadata": {},
   "outputs": [],
   "source": [
    "def print_name_and_job(name, job='fellowship member'):\n",
    "    print('my name is ' + name)\n",
    "    print('my job is '+ job)"
   ]
  },
  {
   "cell_type": "code",
   "execution_count": 30,
   "metadata": {},
   "outputs": [
    {
     "name": "stdout",
     "output_type": "stream",
     "text": [
      "my name is Frodo\n",
      "my job is ring-bearer\n"
     ]
    }
   ],
   "source": [
    "print_name_and_job('Frodo', 'ring-bearer')"
   ]
  },
  {
   "cell_type": "markdown",
   "metadata": {},
   "source": [
    "But we can also now call it with just one argument, in which case `job` is automatically assigned the default value of `fellowship member`:"
   ]
  },
  {
   "cell_type": "code",
   "execution_count": 31,
   "metadata": {},
   "outputs": [
    {
     "name": "stdout",
     "output_type": "stream",
     "text": [
      "my name is Boromir\n",
      "my job is fellowship member\n"
     ]
    }
   ],
   "source": [
    "print_name_and_job('Boromir')"
   ]
  },
  {
   "cell_type": "markdown",
   "metadata": {},
   "source": [
    "This is handy: if we usually want a function to work one way, but occasionally need it to do something else, we can allow people to pass an argument when they need to but provide a default to make the normal case easier. The example below shows how Python matches values to arguments:"
   ]
  },
  {
   "cell_type": "code",
   "execution_count": null,
   "metadata": {},
   "outputs": [],
   "source": [
    "def display(a=1, b=2, c=3):\n",
    "    print('a:', a, 'b:', b, 'c:', c)\n",
    "\n",
    "print('no arguments:')\n",
    "display()\n",
    "print('one arguments:')\n",
    "display(55)\n",
    "print('two arguments:')\n",
    "display(55, 66)"
   ]
  },
  {
   "cell_type": "markdown",
   "metadata": {},
   "source": [
    "As this example shows, arguments are matched up from left to right, and any that haven’t been given a value explicitly get their default value. We can override this behavior by naming the value as we pass it in:"
   ]
  },
  {
   "cell_type": "code",
   "execution_count": null,
   "metadata": {},
   "outputs": [],
   "source": [
    "print('only setting the value of c')\n",
    "display(c=77)"
   ]
  },
  {
   "cell_type": "markdown",
   "metadata": {},
   "source": [
    "With that in hand, let’s look at the help for `numpy.loadtxt`:"
   ]
  },
  {
   "cell_type": "code",
   "execution_count": 2,
   "metadata": {},
   "outputs": [
    {
     "name": "stdout",
     "output_type": "stream",
     "text": [
      "Help on function loadtxt in module numpy:\n",
      "\n",
      "loadtxt(fname, dtype=<class 'float'>, comments='#', delimiter=None, converters=None, skiprows=0, usecols=None, unpack=False, ndmin=0, encoding='bytes', max_rows=None, *, like=None)\n",
      "    Load data from a text file.\n",
      "    \n",
      "    Each row in the text file must have the same number of values.\n",
      "    \n",
      "    Parameters\n",
      "    ----------\n",
      "    fname : file, str, or pathlib.Path\n",
      "        File, filename, or generator to read.  If the filename extension is\n",
      "        ``.gz`` or ``.bz2``, the file is first decompressed. Note that\n",
      "        generators should return byte strings.\n",
      "    dtype : data-type, optional\n",
      "        Data-type of the resulting array; default: float.  If this is a\n",
      "        structured data-type, the resulting array will be 1-dimensional, and\n",
      "        each row will be interpreted as an element of the array.  In this\n",
      "        case, the number of columns used must match the number of fields in\n",
      "        the data-type.\n",
      "    comments : str or sequence of str, optional\n",
      "        The characters or list of characters used to indicate the start of a\n",
      "        comment. None implies no comments. For backwards compatibility, byte\n",
      "        strings will be decoded as 'latin1'. The default is '#'.\n",
      "    delimiter : str, optional\n",
      "        The string used to separate values. For backwards compatibility, byte\n",
      "        strings will be decoded as 'latin1'. The default is whitespace.\n",
      "    converters : dict, optional\n",
      "        A dictionary mapping column number to a function that will parse the\n",
      "        column string into the desired value.  E.g., if column 0 is a date\n",
      "        string: ``converters = {0: datestr2num}``.  Converters can also be\n",
      "        used to provide a default value for missing data (but see also\n",
      "        `genfromtxt`): ``converters = {3: lambda s: float(s.strip() or 0)}``.\n",
      "        Default: None.\n",
      "    skiprows : int, optional\n",
      "        Skip the first `skiprows` lines, including comments; default: 0.\n",
      "    usecols : int or sequence, optional\n",
      "        Which columns to read, with 0 being the first. For example,\n",
      "        ``usecols = (1,4,5)`` will extract the 2nd, 5th and 6th columns.\n",
      "        The default, None, results in all columns being read.\n",
      "    \n",
      "        .. versionchanged:: 1.11.0\n",
      "            When a single column has to be read it is possible to use\n",
      "            an integer instead of a tuple. E.g ``usecols = 3`` reads the\n",
      "            fourth column the same way as ``usecols = (3,)`` would.\n",
      "    unpack : bool, optional\n",
      "        If True, the returned array is transposed, so that arguments may be\n",
      "        unpacked using ``x, y, z = loadtxt(...)``.  When used with a\n",
      "        structured data-type, arrays are returned for each field.\n",
      "        Default is False.\n",
      "    ndmin : int, optional\n",
      "        The returned array will have at least `ndmin` dimensions.\n",
      "        Otherwise mono-dimensional axes will be squeezed.\n",
      "        Legal values: 0 (default), 1 or 2.\n",
      "    \n",
      "        .. versionadded:: 1.6.0\n",
      "    encoding : str, optional\n",
      "        Encoding used to decode the inputfile. Does not apply to input streams.\n",
      "        The special value 'bytes' enables backward compatibility workarounds\n",
      "        that ensures you receive byte arrays as results if possible and passes\n",
      "        'latin1' encoded strings to converters. Override this value to receive\n",
      "        unicode arrays and pass strings as input to converters.  If set to None\n",
      "        the system default is used. The default value is 'bytes'.\n",
      "    \n",
      "        .. versionadded:: 1.14.0\n",
      "    max_rows : int, optional\n",
      "        Read `max_rows` lines of content after `skiprows` lines. The default\n",
      "        is to read all the lines.\n",
      "    \n",
      "        .. versionadded:: 1.16.0\n",
      "    like : array_like\n",
      "        Reference object to allow the creation of arrays which are not\n",
      "        NumPy arrays. If an array-like passed in as ``like`` supports\n",
      "        the ``__array_function__`` protocol, the result will be defined\n",
      "        by it. In this case, it ensures the creation of an array object\n",
      "        compatible with that passed in via this argument.\n",
      "    \n",
      "        .. versionadded:: 1.20.0\n",
      "    \n",
      "    Returns\n",
      "    -------\n",
      "    out : ndarray\n",
      "        Data read from the text file.\n",
      "    \n",
      "    See Also\n",
      "    --------\n",
      "    load, fromstring, fromregex\n",
      "    genfromtxt : Load data with missing values handled as specified.\n",
      "    scipy.io.loadmat : reads MATLAB data files\n",
      "    \n",
      "    Notes\n",
      "    -----\n",
      "    This function aims to be a fast reader for simply formatted files.  The\n",
      "    `genfromtxt` function provides more sophisticated handling of, e.g.,\n",
      "    lines with missing values.\n",
      "    \n",
      "    .. versionadded:: 1.10.0\n",
      "    \n",
      "    The strings produced by the Python float.hex method can be used as\n",
      "    input for floats.\n",
      "    \n",
      "    Examples\n",
      "    --------\n",
      "    >>> from io import StringIO   # StringIO behaves like a file object\n",
      "    >>> c = StringIO(\"0 1\\n2 3\")\n",
      "    >>> np.loadtxt(c)\n",
      "    array([[0., 1.],\n",
      "           [2., 3.]])\n",
      "    \n",
      "    >>> d = StringIO(\"M 21 72\\nF 35 58\")\n",
      "    >>> np.loadtxt(d, dtype={'names': ('gender', 'age', 'weight'),\n",
      "    ...                      'formats': ('S1', 'i4', 'f4')})\n",
      "    array([(b'M', 21, 72.), (b'F', 35, 58.)],\n",
      "          dtype=[('gender', 'S1'), ('age', '<i4'), ('weight', '<f4')])\n",
      "    \n",
      "    >>> c = StringIO(\"1,0,2\\n3,0,4\")\n",
      "    >>> x, y = np.loadtxt(c, delimiter=',', usecols=(0, 2), unpack=True)\n",
      "    >>> x\n",
      "    array([1., 3.])\n",
      "    >>> y\n",
      "    array([2., 4.])\n",
      "    \n",
      "    This example shows how `converters` can be used to convert a field\n",
      "    with a trailing minus sign into a negative number.\n",
      "    \n",
      "    >>> s = StringIO('10.01 31.25-\\n19.22 64.31\\n17.57- 63.94')\n",
      "    >>> def conv(fld):\n",
      "    ...     return -float(fld[:-1]) if fld.endswith(b'-') else float(fld)\n",
      "    ...\n",
      "    >>> np.loadtxt(s, converters={0: conv, 1: conv})\n",
      "    array([[ 10.01, -31.25],\n",
      "           [ 19.22,  64.31],\n",
      "           [-17.57,  63.94]])\n",
      "\n"
     ]
    }
   ],
   "source": [
    "import numpy as np\n",
    "\n",
    "\n",
    "help(np.loadtxt)"
   ]
  },
  {
   "cell_type": "markdown",
   "metadata": {},
   "source": [
    "There is a lot of information here, but the most important part is the first couple of lines:\n",
    "```\n",
    "loadtxt(fname, dtype=<class 'float'>, comments='#', delimiter=None, converters=None, skiprows=0, usecols=None, unpack=False, ndmin=0, encoding='bytes', max_rows=None)\n",
    "```\n",
    "\n",
    "(if you see something a bit different, you may have a different version of numpy than the one this course was created using: 1.19.4)\n",
    "\n",
    "This tells us that `loadtxt` has one parameter called `fname` that doesn’t have a default value, and eight others that do. If we call the function like this:\n",
    "\n",
    "```Python\n",
    "np.loadtxt('experiment01.csv', ',')\n",
    "```\n",
    "\n",
    "then the filename is assigned to `fname` (which is what we want), but the delimiter string `','` is assigned to `dtype` rather than `delimiter`, because `dtype` is the second parameter in the list. However `','` isn’t a known `dtype` so our code will produce an error message when we try to run it. When we call `loadtxt` we don’t have to provide `fname=` for the filename because it’s the first item in the list, but if we want the `','` to be assigned to the variable `delimiter`, we do have to provide `delimiter=` for the second parameter since `delimiter` is not the second parameter in the list.\n",
    "\n",
    "> **Note on \"argument\" vs \"parameter\":** The terms \"argument\" and \"parameter\" do have specific differences, although it is often difficult to discern what they are. The best distinction I am aware of is as follows: \"Technically, parameters are variables in a function definition and arguments are the actual values given to the variables at the point of call. For example: \n",
    "> ```Python\n",
    "> def foo(arg): \n",
    ">     return arg \n",
    "> foo('Python') \n",
    "> ```\n",
    "> The variable arg in the function definition is the parameter and the value Python in the function call is an argument to that parameter.\" (from the answer provided [here](https://cmsdk.com/python/what-is-the-difference-between-argument-and-parameter-in-python.html#:~:text=Technically%2C%20parameters%20are%20variables%20in%20a%20function%20definition,function%20call%20is%20an%20argument%20to%20that%20parameter)). Confusion often arises, however, because the parameters are often named \"`arg`\" (as in the example) because they are used to store the arguments when the function is called! In our discussion above, `delimiter` is the parameter and `,` is the argument.\n",
    "> \n",
    "> The distinction is unimportant at the beginner level, but the use of both words is extremely common and should be noted!\n",
    "\n",
    "# Readable Functions\n",
    "\n",
    "Consider these two functions:\n",
    "\n",
    "```Python\n",
    "def s(p):\n",
    "    a = 0\n",
    "    for v in p:\n",
    "        a += v\n",
    "    m = a / len(p)\n",
    "    d = 0\n",
    "    for v in p:\n",
    "        d += (v - m) * (v - m)\n",
    "    return numpy.sqrt(d / (len(p) - 1))\n",
    "\n",
    "def std_dev(sample):\n",
    "    sample_sum = 0\n",
    "    for value in sample:\n",
    "        sample_sum += value\n",
    "\n",
    "    sample_mean = sample_sum / len(sample)\n",
    "\n",
    "    sum_squared_devs = 0\n",
    "    for value in sample:\n",
    "        sum_squared_devs += (value - sample_mean) * (value - sample_mean)\n",
    "\n",
    "    return numpy.sqrt(sum_squared_devs / (len(sample) - 1))\n",
    "```\n",
    "\n",
    "The functions `s` and `std_dev` are computationally equivalent (they both calculate the sample standard deviation), but to a human reader, they look quite different. You probably found `std_dev` much easier to read and understand than `s`.\n",
    "\n",
    "As this example illustrates, both documentation and a programmer’s coding style combine to determine how easy it is for others to read and understand the programmer’s code. Choosing meaningful variable names and using blank spaces to break the code into logical “chunks” are helpful techniques for producing readable code. This is useful not only for sharing code with others, but also for the original programmer. If you need to revisit code that you wrote months ago and haven’t thought about since then, you will appreciate the value of readable code!\n",
    "\n",
    "# Exercise 1 - Combining Strings\n",
    "\n",
    "“Adding” two strings produces their concatenation: `'a' + 'b'` is `'ab'`. Write a function called `fence` that takes two parameters called `original` and `wrapper` and returns a new string that has the `wrapper` character at the beginning and end of the original. A call to your function should look like this:\n",
    "```Python\n",
    "print(fence('name', '*'))\n",
    "> *name*\n",
    "```"
   ]
  },
  {
   "cell_type": "code",
   "execution_count": 12,
   "metadata": {},
   "outputs": [
    {
     "name": "stdout",
     "output_type": "stream",
     "text": [
      "$money$\n"
     ]
    }
   ],
   "source": [
    "# Enter your solution here\n",
    "def fence(original, wrapper):\n",
    "    return wrapper + original + wrapper\n",
    "\n",
    "print(fence('money', '$'))"
   ]
  },
  {
   "cell_type": "markdown",
   "metadata": {},
   "source": [
    "# Exercise 2* `return` vs `print()`\n",
    "\n",
    "Note that `return` and `print` are not interchangeable. `print` is a Python function that prints data to the screen. It enables us, users, to see the data. The `return` statement, on the other hand, makes data visible to the program. Let’s have a look at the following function:\n",
    "\n",
    "```Python\n",
    "def add(a, b):\n",
    "    print(a + b)\n",
    "```\n",
    "\n",
    "Question: What will we see if we execute the following commands?\n",
    "\n",
    "```Python\n",
    "A = add(7, 3)\n",
    "print(A)\n",
    "```"
   ]
  },
  {
   "cell_type": "code",
   "execution_count": 13,
   "metadata": {},
   "outputs": [
    {
     "name": "stdout",
     "output_type": "stream",
     "text": [
      "10\n",
      "None\n"
     ]
    }
   ],
   "source": [
    "# Enter your solution here\n",
    "def add(a, b):\n",
    "    print(a + b)\n",
    "\n",
    "A = add(7, 3)\n",
    "print(A)"
   ]
  },
  {
   "cell_type": "markdown",
   "metadata": {},
   "source": [
    "# Exercise 3* - Selecting Characters From Strings\n",
    "\n",
    "If the variable `s` refers to a string, then `s[0]` is the string’s first character and `s[-1]` is its last. Write a function called `outer` that returns a string made up of just the first and last characters of its input. A call to your function should look like this:\n",
    "\n",
    "```Python\n",
    "print(outer('helium'))\n",
    "> 'hm'\n",
    "```"
   ]
  },
  {
   "cell_type": "code",
   "execution_count": 16,
   "metadata": {},
   "outputs": [
    {
     "name": "stdout",
     "output_type": "stream",
     "text": [
      "hm\n"
     ]
    }
   ],
   "source": [
    "# Enter your solution here\n",
    "def outer(some_string):\n",
    "    return some_string[0] + some_string[-1]\n",
    "\n",
    "print(outer('helium'))"
   ]
  },
  {
   "cell_type": "markdown",
   "metadata": {},
   "source": [
    "# Exercise 4 - Normalising an Array\n",
    "\n",
    "Write a function `normalise` that takes the following array as input and returns a corresponding array of values scaled to lie in the range 0.0 to 1.0. (Hint: If `L` and `H` are the lowest and highest values in the original array, then the replacement for a value `v` should be `(v-L) / (H-L)`.)"
   ]
  },
  {
   "cell_type": "code",
   "execution_count": 36,
   "metadata": {},
   "outputs": [
    {
     "name": "stdout",
     "output_type": "stream",
     "text": [
      "Test array is: \n",
      " [ 0  1  2  3  4  5  6  7  8  9 10]\n",
      "[0.0, 0.1, 0.2, 0.3, 0.4, 0.5, 0.6, 0.7, 0.8, 0.9, 1.0]\n"
     ]
    }
   ],
   "source": [
    "import numpy as np\n",
    "\n",
    "\n",
    "test = np.arange(11)\n",
    "# Enter your solution here\n",
    "print(f'Test array is: \\n {test}')\n",
    "\n",
    "def normalise(an_array):\n",
    "    result = []\n",
    "    array_max = np.amax(an_array)\n",
    "    array_min = np.amin(an_array)\n",
    "    \n",
    "    for i in an_array:\n",
    "        result.append((i - array_min) / (array_max - array_min))\n",
    "    return result\n",
    "\n",
    "print(normalise(test))"
   ]
  },
  {
   "cell_type": "markdown",
   "metadata": {},
   "source": [
    "# Exercise 5 - Testing and Documenting Your Function\n",
    "\n",
    "Run the commands `help(np.arange)` and `help(np.linspace)` to see how to use these functions to generate regularly spaced values. Try using linspace to test the limits of `normalize`, and  add a docstring to it that explains what it does."
   ]
  },
  {
   "cell_type": "code",
   "execution_count": 35,
   "metadata": {},
   "outputs": [
    {
     "name": "stdout",
     "output_type": "stream",
     "text": [
      "Help on _ArrayFunctionDispatcher in module numpy:\n",
      "\n",
      "linspace(start, stop, num=50, endpoint=True, retstep=False, dtype=None, axis=0)\n",
      "    Return evenly spaced numbers over a specified interval.\n",
      "    \n",
      "    Returns `num` evenly spaced samples, calculated over the\n",
      "    interval [`start`, `stop`].\n",
      "    \n",
      "    The endpoint of the interval can optionally be excluded.\n",
      "    \n",
      "    .. versionchanged:: 1.16.0\n",
      "        Non-scalar `start` and `stop` are now supported.\n",
      "    \n",
      "    .. versionchanged:: 1.20.0\n",
      "        Values are rounded towards ``-inf`` instead of ``0`` when an\n",
      "        integer ``dtype`` is specified. The old behavior can\n",
      "        still be obtained with ``np.linspace(start, stop, num).astype(int)``\n",
      "    \n",
      "    Parameters\n",
      "    ----------\n",
      "    start : array_like\n",
      "        The starting value of the sequence.\n",
      "    stop : array_like\n",
      "        The end value of the sequence, unless `endpoint` is set to False.\n",
      "        In that case, the sequence consists of all but the last of ``num + 1``\n",
      "        evenly spaced samples, so that `stop` is excluded.  Note that the step\n",
      "        size changes when `endpoint` is False.\n",
      "    num : int, optional\n",
      "        Number of samples to generate. Default is 50. Must be non-negative.\n",
      "    endpoint : bool, optional\n",
      "        If True, `stop` is the last sample. Otherwise, it is not included.\n",
      "        Default is True.\n",
      "    retstep : bool, optional\n",
      "        If True, return (`samples`, `step`), where `step` is the spacing\n",
      "        between samples.\n",
      "    dtype : dtype, optional\n",
      "        The type of the output array.  If `dtype` is not given, the data type\n",
      "        is inferred from `start` and `stop`. The inferred dtype will never be\n",
      "        an integer; `float` is chosen even if the arguments would produce an\n",
      "        array of integers.\n",
      "    \n",
      "        .. versionadded:: 1.9.0\n",
      "    \n",
      "    axis : int, optional\n",
      "        The axis in the result to store the samples.  Relevant only if start\n",
      "        or stop are array-like.  By default (0), the samples will be along a\n",
      "        new axis inserted at the beginning. Use -1 to get an axis at the end.\n",
      "    \n",
      "        .. versionadded:: 1.16.0\n",
      "    \n",
      "    Returns\n",
      "    -------\n",
      "    samples : ndarray\n",
      "        There are `num` equally spaced samples in the closed interval\n",
      "        ``[start, stop]`` or the half-open interval ``[start, stop)``\n",
      "        (depending on whether `endpoint` is True or False).\n",
      "    step : float, optional\n",
      "        Only returned if `retstep` is True\n",
      "    \n",
      "        Size of spacing between samples.\n",
      "    \n",
      "    \n",
      "    See Also\n",
      "    --------\n",
      "    arange : Similar to `linspace`, but uses a step size (instead of the\n",
      "             number of samples).\n",
      "    geomspace : Similar to `linspace`, but with numbers spaced evenly on a log\n",
      "                scale (a geometric progression).\n",
      "    logspace : Similar to `geomspace`, but with the end points specified as\n",
      "               logarithms.\n",
      "    :ref:`how-to-partition`\n",
      "    \n",
      "    Examples\n",
      "    --------\n",
      "    >>> np.linspace(2.0, 3.0, num=5)\n",
      "    array([2.  , 2.25, 2.5 , 2.75, 3.  ])\n",
      "    >>> np.linspace(2.0, 3.0, num=5, endpoint=False)\n",
      "    array([2. ,  2.2,  2.4,  2.6,  2.8])\n",
      "    >>> np.linspace(2.0, 3.0, num=5, retstep=True)\n",
      "    (array([2.  ,  2.25,  2.5 ,  2.75,  3.  ]), 0.25)\n",
      "    \n",
      "    Graphical illustration:\n",
      "    \n",
      "    >>> import matplotlib.pyplot as plt\n",
      "    >>> N = 8\n",
      "    >>> y = np.zeros(N)\n",
      "    >>> x1 = np.linspace(0, 10, N, endpoint=True)\n",
      "    >>> x2 = np.linspace(0, 10, N, endpoint=False)\n",
      "    >>> plt.plot(x1, y, 'o')\n",
      "    [<matplotlib.lines.Line2D object at 0x...>]\n",
      "    >>> plt.plot(x2, y + 0.5, 'o')\n",
      "    [<matplotlib.lines.Line2D object at 0x...>]\n",
      "    >>> plt.ylim([-0.5, 1])\n",
      "    (-0.5, 1)\n",
      "    >>> plt.show()\n",
      "\n"
     ]
    }
   ],
   "source": [
    "# Enter your solution here\n",
    "help(np.linspace)"
   ]
  },
  {
   "cell_type": "markdown",
   "metadata": {},
   "source": [
    "# Exercise 6 - Defining Defaults\n",
    "\n",
    "Rewrite the normalize function so that it scales data to lie between 0.0 and 1.0 by default, but will allow the caller to specify lower and upper bounds if they want. Discuss your implementation with others if you can. Do the functions always behave the same way?"
   ]
  },
  {
   "cell_type": "code",
   "execution_count": null,
   "metadata": {},
   "outputs": [],
   "source": [
    "# Enter your solution here"
   ]
  },
  {
   "cell_type": "markdown",
   "metadata": {},
   "source": [
    "# Exercise 7* - Variables Inside and Outside Functions\n",
    "\n",
    "What does the following piece of code display when run — and why?"
   ]
  },
  {
   "cell_type": "code",
   "execution_count": 37,
   "metadata": {},
   "outputs": [
    {
     "name": "stdout",
     "output_type": "stream",
     "text": [
      "259.81666666666666\n",
      "278.15\n",
      "273.15\n",
      "0\n"
     ]
    }
   ],
   "source": [
    "f = 0\n",
    "k = 0\n",
    "\n",
    "def f2k(f):\n",
    "    k = ((f - 32) * (5.0 / 9.0)) + 273.15\n",
    "    return k\n",
    "\n",
    "print(f2k(8))\n",
    "print(f2k(41))\n",
    "print(f2k(32))\n",
    "\n",
    "print(k)"
   ]
  },
  {
   "cell_type": "markdown",
   "metadata": {},
   "source": [
    "# Exercise 8* - Mixing Default and Non-Default Parameters\n",
    "\n",
    "Given the following code:\n",
    "\n",
    "```Python\n",
    "def numbers(one, two=2, three, four=4):\n",
    "    n = str(one) + str(two) + str(three) + str(four)\n",
    "    return n\n",
    "\n",
    "print(numbers(1, three=3))\n",
    "```\n",
    "\n",
    "what do you expect will be printed? What is actually printed? What rule do you think Python is following?\n",
    "\n",
    "1. `1234`\n",
    "2. `one2three4`\n",
    "3. `1239`\n",
    "4. `SyntaxError`\n",
    "\n",
    "Given that, what does the following piece of code display when run?\n",
    "\n",
    "```Python\n",
    "def func(a, b=3, c=6):\n",
    "    print('a: ', a, 'b: ', b, 'c:', c)\n",
    "\n",
    "func(-1, 2)\n",
    "```\n",
    "\n",
    "1. `a: b: 3 c: 6`\n",
    "2. `a: -1 b: 3 c: 6`\n",
    "3. `a: -1 b: 2 c: 6`\n",
    "4. `a: b: -1 c: 2`"
   ]
  },
  {
   "cell_type": "code",
   "execution_count": null,
   "metadata": {},
   "outputs": [],
   "source": [
    "# Enter your solution here"
   ]
  },
  {
   "cell_type": "markdown",
   "metadata": {},
   "source": [
    "# Key Points\n",
    "\n",
    "\n",
    "- Define a function using `def function_name(parameter)`.\n",
    "- The body of a function must be indented.\n",
    "- Call a function using `function_name(value)`.\n",
    "- Numbers are stored as integers or floating-point numbers.\n",
    "- Variables defined within a function can only be seen and used within the body of the function.\n",
    "- If a variable is not defined within the function it is used, Python looks for a definition before the function call\n",
    "- Use `help(thing)` to view help for something.\n",
    "- Put docstrings in functions to provide help for that function.\n",
    "- Specify default values for parameters when defining a function using `name=value` in the parameter list.\n",
    "- Parameters can be passed by matching based on name, by position, or by omitting them (in which case the default value is used)."
   ]
  },
  {
   "cell_type": "markdown",
   "metadata": {},
   "source": [
    "This work is derived from work that is Copyright © [Software Carpentry](http://software-carpentry.org/), under the CC-by [license](https://creativecommons.org/licenses/by/4.0/). The text has been paraphrased partially in some locations, with some additional exercises and images included, but the vast majority of the content is derived from the Software Carpentry lesson."
   ]
  },
  {
   "cell_type": "code",
   "execution_count": null,
   "metadata": {},
   "outputs": [],
   "source": []
  }
 ],
 "metadata": {
  "kernelspec": {
   "display_name": "Python 3 (ipykernel)",
   "language": "python",
   "name": "python3"
  },
  "language_info": {
   "codemirror_mode": {
    "name": "ipython",
    "version": 3
   },
   "file_extension": ".py",
   "mimetype": "text/x-python",
   "name": "python",
   "nbconvert_exporter": "python",
   "pygments_lexer": "ipython3",
   "version": "3.10.11"
  }
 },
 "nbformat": 4,
 "nbformat_minor": 4
}
